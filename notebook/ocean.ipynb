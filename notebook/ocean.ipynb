{
 "cells": [
  {
   "cell_type": "code",
   "execution_count": null,
   "metadata": {},
   "outputs": [],
   "source": [
    "%reload_ext autoreload\n",
    "%autoreload 2\n",
    "\n",
    "import os\n",
    "import sys\n",
    "import numpy as np\n",
    "from tqdm import tqdm\n",
    "from pythonperlin import perlin\n",
    "from synthwave import *\n",
    "import matplotlib.colors as mc\n",
    "import pylab as plt\n",
    "import excolor\n",
    "import cv2\n",
    "import gif\n",
    "\n",
    "# path = os.path.expanduser(\"~/repo/synthwave/\")\n",
    "# sys.path.append(path)"
   ]
  },
  {
   "cell_type": "markdown",
   "metadata": {},
   "source": [
    "## Canvas size and dpi\n",
    "<br>\n",
    "\n",
    "1080 x 1350 = 4 x 5 inch (dpi = 270); 12 x 15 inch (dpi = 90); 15 x 18.5 inch (dpi = 72)\n",
    "<br>\n",
    "\n",
    "1280 x 720 = 8 x 4.5 inch (dpi = 160); 16 x 9 inch (dpi = 80)\n",
    "<br>"
   ]
  },
  {
   "cell_type": "code",
   "execution_count": null,
   "metadata": {},
   "outputs": [],
   "source": [
    "size, dpi = (1080, 1350), 270\n",
    "# size, dpi = (1280, 720), 160"
   ]
  },
  {
   "cell_type": "markdown",
   "metadata": {},
   "source": [
    "## Colors"
   ]
  },
  {
   "cell_type": "code",
   "execution_count": null,
   "metadata": {},
   "outputs": [],
   "source": [
    "excolor.show_colors(\"cyberpunk\")\n",
    "excolor.show_colors(\"synthwave\")"
   ]
  },
  {
   "cell_type": "markdown",
   "metadata": {},
   "source": [
    "## Generate Perlin noise"
   ]
  },
  {
   "cell_type": "code",
   "execution_count": null,
   "metadata": {},
   "outputs": [],
   "source": [
    "%%time\n",
    "\n",
    "shape = (20,12,12)\n",
    "p = perlin(shape, dens=20, seed=0)[::2]\n",
    "print(p.shape)\n"
   ]
  },
  {
   "cell_type": "markdown",
   "metadata": {},
   "source": [
    "## Cyberpunk (night theme)"
   ]
  },
  {
   "cell_type": "code",
   "execution_count": null,
   "metadata": {},
   "outputs": [],
   "source": [
    "fname = \"cyberpunk\"\n",
    "\n",
    "@save_frame(fname, dpi=dpi)\n",
    "def plot_frame(i, p, size):\n",
    "    img, mask = draw_moon(size)\n",
    "    bg, bg_mask = background_fill(size, colors=\"night\")\n",
    "    stars = draw_stars(size, mask=mask*bg_mask, seed=0)\n",
    "    \n",
    "    figsize = (size[0] / dpi, size[1] / dpi)\n",
    "    fig = plt.figure(figsize=figsize, facecolor=\"#00000000\")\n",
    "    plt.imshow(bg)\n",
    "    plt.imshow(stars)\n",
    "    plt.imshow(img)\n",
    "    draw_ocean(i, p, size, dpi=None, colors=\"night\")\n",
    "    excolor.remove_margins()\n",
    "    plt.xlim(0, size[0])\n",
    "    plt.ylim(0, size[1])\n",
    "    return fig\n",
    "\n",
    "idx = np.arange(len(p))\n",
    "idx = np.arange(2)\n",
    "for i in tqdm(idx):\n",
    "    plot_frame(i, p, size)\n",
    "    plt.close()"
   ]
  },
  {
   "cell_type": "markdown",
   "metadata": {},
   "source": [
    "## Synthwave (daylight theme)"
   ]
  },
  {
   "cell_type": "code",
   "execution_count": null,
   "metadata": {},
   "outputs": [],
   "source": [
    "fname = \"synthwave\"\n",
    "\n",
    "@save_frame(fname, dpi=dpi)\n",
    "def plot_frame(i, p, size):\n",
    "    img, mask = draw_sun(size)\n",
    "    bg, bg_mask = background_fill(size, colors=\"day\")\n",
    "    \n",
    "    figsize = (size[0] / dpi, size[1] / dpi)\n",
    "    fig = plt.figure(figsize=figsize, facecolor=\"#00000000\")\n",
    "    plt.imshow(bg)\n",
    "    plt.imshow(img)\n",
    "    draw_ocean(i, p, size, dpi=None, colors=\"day\")\n",
    "    excolor.remove_margins()\n",
    "    plt.xlim(0, size[0])\n",
    "    plt.ylim(0, size[1])\n",
    "    return fig\n",
    "\n",
    "idx = np.arange(len(p))\n",
    "idx = np.arange(2)\n",
    "for i in tqdm(idx):\n",
    "    plot_frame(i, p, size)\n",
    "    plt.close()"
   ]
  },
  {
   "cell_type": "markdown",
   "metadata": {},
   "source": [
    "## Make gif"
   ]
  },
  {
   "cell_type": "code",
   "execution_count": null,
   "metadata": {},
   "outputs": [],
   "source": [
    "# Set the dots per inch resolution\n",
    "gif.options.matplotlib[\"dpi\"] = dpi\n",
    "\n",
    "def show_frame(i, fname, folder=\"~/Downloads/\"):\n",
    "    path = folder + \"/\" + fname + \"/\"\n",
    "    path = os.path.expanduser(path)\n",
    "    filename = f\"{path}/f{i:04d}.png\"\n",
    "    img = Image.open(filename)\n",
    "    fig = plt.figure(figsize=(size[0]/dpi, size[1]/dpi), facecolor=\"#00000000\")\n",
    "    plt.imshow(img)\n",
    "    excolor.remove_margins()\n",
    "    #plt.tight_layout()\n",
    "    return fig\n",
    "\n",
    "    \n",
    "# Decorate a plot function with @gif.frame\n",
    "@gif.frame\n",
    "def plot(i, fname):\n",
    "    show_frame(i, fname)\n",
    "\n",
    "# Construct \"frames\"\n",
    "frames = [plot(i, fname) for i in range(p.shape[0])]\n",
    "\n",
    "# Save \"frames\" to gif with a specified duration (milliseconds) between each frame\n",
    "gif.save(frames, f\"{fname}.gif\", duration=120)"
   ]
  },
  {
   "cell_type": "code",
   "execution_count": null,
   "metadata": {},
   "outputs": [],
   "source": []
  }
 ],
 "metadata": {
  "kernelspec": {
   "display_name": "py3.9",
   "language": "python",
   "name": "py3.9"
  },
  "language_info": {
   "codemirror_mode": {
    "name": "ipython",
    "version": 3
   },
   "file_extension": ".py",
   "mimetype": "text/x-python",
   "name": "python",
   "nbconvert_exporter": "python",
   "pygments_lexer": "ipython3",
   "version": "3.9.17"
  }
 },
 "nbformat": 4,
 "nbformat_minor": 1
}
